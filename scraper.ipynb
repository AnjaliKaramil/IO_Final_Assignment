{
 "cells": [
  {
   "cell_type": "code",
   "execution_count": 19,
   "metadata": {},
   "outputs": [],
   "source": [
    "import bs4 as bs\n",
    "import lxml\n",
    "import urllib.request"
   ]
  },
  {
   "cell_type": "code",
   "execution_count": 20,
   "metadata": {},
   "outputs": [],
   "source": [
    "url='https://karki23.github.io/Weather-Data/assignment.html'\n",
    "#Storing the root as https://karki23.github.io/Weather-Data\n",
    "#Used later to convert the Relative liks like 'Albury.html' to 'https://karki23.github.io/Weather-Data/Albury.html'\n",
    "root=\"/\".join((url.split('/'))[:-1])"
   ]
  },
  {
   "cell_type": "code",
   "execution_count": 21,
   "metadata": {},
   "outputs": [],
   "source": [
    "sauce=urllib.request.urlopen(url).read()"
   ]
  },
  {
   "cell_type": "code",
   "execution_count": 22,
   "metadata": {},
   "outputs": [],
   "source": [
    "src=bs.BeautifulSoup(sauce, 'lxml')"
   ]
  },
  {
   "cell_type": "code",
   "execution_count": 23,
   "metadata": {},
   "outputs": [
    {
     "name": "stdout",
     "output_type": "stream",
     "text": [
      "{'Albury': 'Albury.html', 'Badgerys Creek': 'BadgerysCreek.html', 'Cobar': 'Cobar.html', 'Coffs Harbour': 'CoffsHarbour.html', 'Moree': 'Moree.html', 'Newcastle': 'Newcastle.html', 'NorahHead': 'NorahHead.html', 'Norfolk Island': 'NorfolkIsland.html', 'Penrith': 'Penrith.html', 'Richmond': 'Richmond.html', 'Sydney': 'Sydney.html', 'Sydney Airport': 'SydneyAirport.html', 'Wagga Wagga': 'WaggaWagga.html', 'William town': 'Williamtown.html', 'Wollongong': 'Wollongong.html', 'Canberra': 'Canberra.html', 'Tuggeranong': 'Tuggeranong.html', 'Mount Ginini': 'MountGinini.html', 'Ballarat': 'Ballarat.html', 'Bendigo': 'Bendigo.html', 'Sale': 'Sale.html', 'Melbourne Airport': 'MelbourneAirport.html', 'Melbourne': 'Melbourne.html', 'Mildura': 'Mildura.html', 'Nhil': 'Nhil.html', 'Portland': 'Portland.html', 'Watsonia': 'Watsonia.html', 'Dartmoor': 'Dartmoor.html', 'Brisbane': 'Brisbane.html', 'Cairns': 'Cairns.html', 'Gold Coast': 'GoldCoast.html', 'Townsville': 'Townsville.html', 'Adelaide': 'Adelaide.html', 'Mount Gambier': 'MountGambier.html', 'Nuriootpa': 'Nuriootpa.html', 'Woomera': 'Woomera.html', 'Albany': 'Albany.html', 'Witchcliffe': 'Witchcliffe.html', 'PearceRAAF': 'PearceRAAF.html', 'Perth Airport': 'PerthAirport.html', 'Perth': 'Perth.html', 'SalmonGums': 'SalmonGums.html', 'Walpole': 'Walpole.html', 'Hobart': 'Hobart.html', 'Launceston': 'Launceston.html', 'Alice Springs': 'AliceSprings.html', 'Darwin': 'Darwin.html', 'Katherine': 'Katherine.html', 'Uluru': 'Uluru.html'}\n"
     ]
    }
   ],
   "source": [
    "cities={}   #Stores city_name:hyperlink\n",
    "for link in src.find_all('a'):\n",
    "    cities[link.text]=link.get('href')\n",
    "print(cities)"
   ]
  },
  {
   "cell_type": "code",
   "execution_count": 24,
   "metadata": {},
   "outputs": [],
   "source": [
    "import csv\n",
    "for city_name, link in cities.items():\n",
    "    #Converting the relative links to absolute links:\n",
    "    city_sauce=urllib.request.urlopen(root+'/'+ link).read()\n",
    "    city_src=bs.BeautifulSoup(city_sauce, 'lxml')\n",
    "    table_src=city_src.find('table')\n",
    "    table=[]\n",
    "    allRows=table_src.find_all('tr')\n",
    "    #Appending the table headers (<th>....</th>) to table list.\n",
    "    headers=allRows[0].find_all('th')\n",
    "    table.append([head.text for head in headers])\n",
    "    #allRows[1:] - Ignoring the first row containing the table headers.\n",
    "    for row in allRows[1:]:\n",
    "        allCols=row.find_all('td')\n",
    "        table.append([col.text for col in allCols])\n",
    "        \n",
    "    #Using the city's name as the file name:\n",
    "    with open((city_name+\".csv\"), 'w', encoding = 'utf-8') as csvFile:\n",
    "        writer = csv.writer(csvFile)\n",
    "        writer.writerows(table)\n"
   ]
  },
  {
   "cell_type": "code",
   "execution_count": null,
   "metadata": {},
   "outputs": [],
   "source": []
  }
 ],
 "metadata": {
  "kernelspec": {
   "display_name": "Python 3",
   "language": "python",
   "name": "python3"
  },
  "language_info": {
   "codemirror_mode": {
    "name": "ipython",
    "version": 3
   },
   "file_extension": ".py",
   "mimetype": "text/x-python",
   "name": "python",
   "nbconvert_exporter": "python",
   "pygments_lexer": "ipython3",
   "version": "3.7.3"
  }
 },
 "nbformat": 4,
 "nbformat_minor": 2
}
